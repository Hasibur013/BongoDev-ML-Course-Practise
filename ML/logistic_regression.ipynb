{
 "cells": [
  {
   "cell_type": "markdown",
   "metadata": {},
   "source": [
    "# Logistic Regression\n",
    "\n",
    "Objectives:\n",
    "1. Define a classification problem\n",
    "2. Understand why linear regression does not fit to solve classification problem\n",
    "3. Understand logistic function\n",
    "4. Demonstrate the cost function\n",
    "5. Apply gradient descent with logistic function"
   ]
  },
  {
   "cell_type": "code",
   "execution_count": 3,
   "metadata": {},
   "outputs": [],
   "source": [
    "import numpy as np\n",
    "import os\n",
    "import pandas as pd\n",
    "import seaborn as sns\n",
    "import matplotlib.pyplot as plt\n",
    "from tqdm import tqdm\n",
    "from class_utils.lab_utils_common import dlc, plot_data, draw_vthresh, sigmoid\n",
    "from class_utils.plt_one_addpt_onclick import plt_one_addpt_onclick\n",
    "from class_utils.plt_logistic_loss import  plt_logistic_cost, plt_two_logistic_loss_curves, plt_simple_example\n",
    "from class_utils.plt_logistic_loss import soup_bowl, plt_logistic_squared_error\n",
    "\n",
    "%matplotlib notebook\n",
    "%matplotlib inline\n",
    "plt.style.use('../Style/deeplearning.mplstyle')"
   ]
  }
 ],
 "metadata": {
  "kernelspec": {
   "display_name": "Python 3",
   "language": "python",
   "name": "python3"
  },
  "language_info": {
   "codemirror_mode": {
    "name": "ipython",
    "version": 3
   },
   "file_extension": ".py",
   "mimetype": "text/x-python",
   "name": "python",
   "nbconvert_exporter": "python",
   "pygments_lexer": "ipython3",
   "version": "3.12.5"
  }
 },
 "nbformat": 4,
 "nbformat_minor": 2
}
