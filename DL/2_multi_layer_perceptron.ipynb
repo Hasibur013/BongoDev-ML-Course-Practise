{
 "cells": [
  {
   "cell_type": "markdown",
   "metadata": {},
   "source": [
    "# Deep Learning | Multilayer Perceptron"
   ]
  },
  {
   "cell_type": "code",
   "execution_count": 1,
   "metadata": {},
   "outputs": [],
   "source": [
    "import torch\n",
    "import torch.nn as nn\n",
    "import torch.optim as optim\n",
    "from torchvision import datasets, transforms\n",
    "from torch.utils.data import DataLoader"
   ]
  },
  {
   "cell_type": "code",
   "execution_count": 2,
   "metadata": {},
   "outputs": [
    {
     "data": {
      "text/plain": [
       "False"
      ]
     },
     "execution_count": 2,
     "metadata": {},
     "output_type": "execute_result"
    }
   ],
   "source": [
    "torch.cuda.is_available()"
   ]
  },
  {
   "cell_type": "markdown",
   "metadata": {},
   "source": [
    "## Prepare Dataset"
   ]
  },
  {
   "cell_type": "code",
   "execution_count": 3,
   "metadata": {},
   "outputs": [
    {
     "data": {
      "text/plain": [
       "device(type='cpu')"
      ]
     },
     "execution_count": 3,
     "metadata": {},
     "output_type": "execute_result"
    }
   ],
   "source": [
    "device = torch.device(\"cuda\" if torch.cuda.is_available() else \"cpu\")\n",
    "device"
   ]
  },
  {
   "cell_type": "markdown",
   "metadata": {},
   "source": [
    "## Task: Handwritten Digits classification <br>\n",
    "Our dataset: MNIST <br>\n",
    "Input type: Image <br>\n",
    "Image shape: 28 x 28 <br>"
   ]
  },
  {
   "cell_type": "code",
   "execution_count": 5,
   "metadata": {},
   "outputs": [],
   "source": [
    "transform = transforms.Compose([\n",
    "    transforms.ToTensor(),\n",
    "    transforms.Normalize((0.1307,), (0.3081,))\n",
    "])"
   ]
  },
  {
   "cell_type": "code",
   "execution_count": null,
   "metadata": {},
   "outputs": [
    {
     "name": "stdout",
     "output_type": "stream",
     "text": [
      "Downloading http://yann.lecun.com/exdb/mnist/train-images-idx3-ubyte.gz\n",
      "Failed to download (trying next):\n",
      "HTTP Error 403: Forbidden\n",
      "\n",
      "Downloading https://ossci-datasets.s3.amazonaws.com/mnist/train-images-idx3-ubyte.gz\n",
      "Downloading https://ossci-datasets.s3.amazonaws.com/mnist/train-images-idx3-ubyte.gz to ../Datasets/MNIST/test/data\\MNIST\\raw\\train-images-idx3-ubyte.gz\n"
     ]
    },
    {
     "name": "stderr",
     "output_type": "stream",
     "text": [
      "100%|██████████| 9.91M/9.91M [00:31<00:00, 313kB/s] \n"
     ]
    },
    {
     "name": "stdout",
     "output_type": "stream",
     "text": [
      "Extracting ../Datasets/MNIST/test/data\\MNIST\\raw\\train-images-idx3-ubyte.gz to ../Datasets/MNIST/test/data\\MNIST\\raw\n",
      "\n",
      "Downloading http://yann.lecun.com/exdb/mnist/train-labels-idx1-ubyte.gz\n",
      "Failed to download (trying next):\n",
      "HTTP Error 403: Forbidden\n",
      "\n",
      "Downloading https://ossci-datasets.s3.amazonaws.com/mnist/train-labels-idx1-ubyte.gz\n",
      "Downloading https://ossci-datasets.s3.amazonaws.com/mnist/train-labels-idx1-ubyte.gz to ../Datasets/MNIST/test/data\\MNIST\\raw\\train-labels-idx1-ubyte.gz\n"
     ]
    },
    {
     "name": "stderr",
     "output_type": "stream",
     "text": [
      "100%|██████████| 28.9k/28.9k [00:00<00:00, 57.1kB/s]\n"
     ]
    },
    {
     "name": "stdout",
     "output_type": "stream",
     "text": [
      "Extracting ../Datasets/MNIST/test/data\\MNIST\\raw\\train-labels-idx1-ubyte.gz to ../Datasets/MNIST/test/data\\MNIST\\raw\n",
      "\n",
      "Downloading http://yann.lecun.com/exdb/mnist/t10k-images-idx3-ubyte.gz\n",
      "Failed to download (trying next):\n",
      "HTTP Error 403: Forbidden\n",
      "\n",
      "Downloading https://ossci-datasets.s3.amazonaws.com/mnist/t10k-images-idx3-ubyte.gz\n",
      "Downloading https://ossci-datasets.s3.amazonaws.com/mnist/t10k-images-idx3-ubyte.gz to ../Datasets/MNIST/test/data\\MNIST\\raw\\t10k-images-idx3-ubyte.gz\n"
     ]
    },
    {
     "name": "stderr",
     "output_type": "stream",
     "text": [
      "100%|██████████| 1.65M/1.65M [00:02<00:00, 592kB/s] \n"
     ]
    },
    {
     "name": "stdout",
     "output_type": "stream",
     "text": [
      "Extracting ../Datasets/MNIST/test/data\\MNIST\\raw\\t10k-images-idx3-ubyte.gz to ../Datasets/MNIST/test/data\\MNIST\\raw\n",
      "\n",
      "Downloading http://yann.lecun.com/exdb/mnist/t10k-labels-idx1-ubyte.gz\n",
      "Failed to download (trying next):\n",
      "HTTP Error 403: Forbidden\n",
      "\n",
      "Downloading https://ossci-datasets.s3.amazonaws.com/mnist/t10k-labels-idx1-ubyte.gz\n",
      "Downloading https://ossci-datasets.s3.amazonaws.com/mnist/t10k-labels-idx1-ubyte.gz to ../Datasets/MNIST/test/data\\MNIST\\raw\\t10k-labels-idx1-ubyte.gz\n"
     ]
    },
    {
     "name": "stderr",
     "output_type": "stream",
     "text": [
      "100%|██████████| 4.54k/4.54k [00:00<00:00, 1.82MB/s]\n"
     ]
    },
    {
     "name": "stdout",
     "output_type": "stream",
     "text": [
      "Extracting ../Datasets/MNIST/test/data\\MNIST\\raw\\t10k-labels-idx1-ubyte.gz to ../Datasets/MNIST/test/data\\MNIST\\raw\n",
      "\n"
     ]
    }
   ],
   "source": [
    "train_dataset = datasets.MNIST(\n",
    "    root='../Datasets', \n",
    "    train=True, \n",
    "    download=True, \n",
    "    transform=transform\n",
    ")\n",
    "\n",
    "test_dataset = datasets.MNIST(\n",
    "    root='../Datasets', \n",
    "    train=False, \n",
    "    download=True, \n",
    "    transform=transform\n",
    ")"
   ]
  },
  {
   "cell_type": "code",
   "execution_count": 7,
   "metadata": {},
   "outputs": [
    {
     "name": "stdout",
     "output_type": "stream",
     "text": [
      "<class 'torchvision.datasets.mnist.MNIST'>\n",
      "60000\n"
     ]
    }
   ],
   "source": [
    "print(type(train_dataset))\n",
    "print(len(train_dataset))"
   ]
  },
  {
   "cell_type": "code",
   "execution_count": 8,
   "metadata": {},
   "outputs": [
    {
     "name": "stdout",
     "output_type": "stream",
     "text": [
      "<class 'torchvision.datasets.mnist.MNIST'>\n",
      "10000\n"
     ]
    }
   ],
   "source": [
    "print(type(test_dataset))\n",
    "print(len(test_dataset))"
   ]
  },
  {
   "cell_type": "markdown",
   "metadata": {},
   "source": [
    "Training images 60,000 <br>\n",
    "When you train the model we calculate losses<br>\n",
    "Suppose N is the number of examples<br>\n",
    "Suppose to calculate loss of a single example is O(L)<br><br>\n",
    "\n",
    "Then the time complexity of calculating loss at each step: O(L x N)<br>\n",
    "It is very time and computationally expensive.<br><br>\n",
    "\n",
    "Instead of calculating the losses on the entire dataset we calculate loss on a mini batch.<br>\n",
    "A sample collection of examples from the dataset.<br>\n",
    "Usually between 64 to 512"
   ]
  },
  {
   "cell_type": "code",
   "execution_count": 9,
   "metadata": {},
   "outputs": [],
   "source": [
    "train_loader = DataLoader(train_dataset, batch_size=64, shuffle=True)\n",
    "test_loader = DataLoader(test_dataset, batch_size=64, shuffle=False)"
   ]
  },
  {
   "cell_type": "markdown",
   "metadata": {},
   "source": [
    "# Create Model"
   ]
  },
  {
   "cell_type": "code",
   "execution_count": 10,
   "metadata": {},
   "outputs": [],
   "source": [
    "class Perceptron(nn.Module):\n",
    "    def __init__(self, input_size):\n",
    "        super(Perceptron, self).__init__()\n",
    "        self.w = nn.Parameter(torch.randn(input_size))\n",
    "        self.b = nn.Parameter(torch.randn(1))\n",
    "    \n",
    "    def forward(self, x):\n",
    "        x = x @ self.w + self.b\n",
    "        return x"
   ]
  },
  {
   "cell_type": "code",
   "execution_count": 11,
   "metadata": {},
   "outputs": [
    {
     "name": "stdout",
     "output_type": "stream",
     "text": [
      "torch.Size([784])\n",
      "tensor([22.4845], grad_fn=<AddBackward0>)\n"
     ]
    }
   ],
   "source": [
    "input_size = 28 * 28\n",
    "sample_input = torch.randn(input_size)\n",
    "\n",
    "perceptron = Perceptron(input_size)\n",
    "output = perceptron(sample_input)\n",
    "\n",
    "print(sample_input.shape)\n",
    "print(output)"
   ]
  },
  {
   "cell_type": "markdown",
   "metadata": {},
   "source": [
    "## Create an activation function\n",
    "Activation function: ReLU (Rectified Linear Unit) <br>\n",
    "function: relu(z) = max(0, z)"
   ]
  },
  {
   "cell_type": "code",
   "execution_count": 12,
   "metadata": {},
   "outputs": [],
   "source": [
    "class ReLU(nn.Module):\n",
    "    def __init__(self):\n",
    "        super(ReLU, self).__init__()\n",
    "\n",
    "    def forward(self, x):\n",
    "        return torch.maximum(torch.tensor(0.0), x)"
   ]
  },
  {
   "cell_type": "code",
   "execution_count": 13,
   "metadata": {},
   "outputs": [
    {
     "name": "stdout",
     "output_type": "stream",
     "text": [
      "tensor([22.4845], grad_fn=<MaximumBackward0>)\n"
     ]
    }
   ],
   "source": [
    "relu = ReLU()\n",
    "output = relu(output)\n",
    "\n",
    "print(output)"
   ]
  },
  {
   "cell_type": "markdown",
   "metadata": {},
   "source": [
    "## Create a linear layer\n",
    "A linear layers takes a input of shape X<br>\n",
    "and outputs a output of shape Y"
   ]
  },
  {
   "cell_type": "code",
   "execution_count": 14,
   "metadata": {},
   "outputs": [],
   "source": [
    "class Linear(nn.Module):\n",
    "    def __init__(self, input_size, output_size):\n",
    "        super(Linear, self).__init__()\n",
    "        self.perceptrons = nn.ModuleList([\n",
    "            Perceptron(input_size) for _ in range(output_size)\n",
    "        ])\n",
    "        \n",
    "    def forward(self, x):\n",
    "        outputs = [perceptron(x) for perceptron in self.perceptrons]\n",
    "        outputs = torch.stack(outputs, dim=1)\n",
    "        return outputs"
   ]
  },
  {
   "cell_type": "markdown",
   "metadata": {},
   "source": [
    "Input shape: 784<br>\n",
    "Output shape: 128"
   ]
  },
  {
   "cell_type": "code",
   "execution_count": 15,
   "metadata": {},
   "outputs": [
    {
     "name": "stdout",
     "output_type": "stream",
     "text": [
      "torch.Size([1, 128])\n"
     ]
    }
   ],
   "source": [
    "linear = Linear(input_size, 128)\n",
    "output = linear(sample_input)\n",
    "\n",
    "print(output.shape)"
   ]
  },
  {
   "cell_type": "markdown",
   "metadata": {},
   "source": [
    "# Create Hand Written Digit Classifier Model"
   ]
  },
  {
   "cell_type": "code",
   "execution_count": 16,
   "metadata": {},
   "outputs": [],
   "source": [
    "class DigitClassifier(nn.Module):\n",
    "    def __init__(self, input_size=28 * 28, output_size=10):\n",
    "        super(DigitClassifier, self).__init__()\n",
    "        self.fc1 = Linear(input_size, 128)\n",
    "        self.fc2 = Linear(128, 64)\n",
    "        self.fc3 = Linear(64, output_size)\n",
    "        self.relu = ReLU()\n",
    "        \n",
    "    def forward(self, x):\n",
    "        # Let say x = [1, 2, 3, ....]   shape:  [784]\n",
    "        x = x.view(-1, input_size)\n",
    "        # Let say x = [1, 2, 3, ....]   shape:  [1, 784]\n",
    "        x = self.fc1(x)\n",
    "        # Let say x = [-1, 2.2, 3.3, ...]   shape:  [1, 128]\n",
    "        x = self.relu(x)\n",
    "        # Let say x = [0, 2.2, 3.3, ...]   shape:  [1, 128]\n",
    "        x = self.fc2(x)\n",
    "        # Let say x = [-.50, 4.2, -3.3, ...]   shape:  [1, 64]\n",
    "        x = self.relu(x)\n",
    "        # Let say x = [0, 4.2, 0, ...]   shape:  [1, 64]\n",
    "        x = self.fc3(x)\n",
    "        # Let say x = [5, -4.2, .3, ...]   shape:  [1, 10]\n",
    "        return x"
   ]
  },
  {
   "cell_type": "code",
   "execution_count": 17,
   "metadata": {},
   "outputs": [
    {
     "name": "stdout",
     "output_type": "stream",
     "text": [
      "torch.Size([1, 10])\n"
     ]
    }
   ],
   "source": [
    "model = DigitClassifier(input_size=28 * 28, output_size=10).to(device)\n",
    "output = model(sample_input)\n",
    "print(output.shape)"
   ]
  },
  {
   "cell_type": "code",
   "execution_count": 18,
   "metadata": {},
   "outputs": [
    {
     "name": "stdout",
     "output_type": "stream",
     "text": [
      "tensor([[  519.5203,  -810.1940,  -753.1400, -2025.4454,  -807.8885, -2164.3464,\n",
      "         -1057.3344, -1511.3717,   -59.9989,  -794.5802]],\n",
      "       grad_fn=<StackBackward0>)\n",
      "Class label: tensor([0])\n"
     ]
    }
   ],
   "source": [
    "print(output)\n",
    "\n",
    "_, predicted = torch.max(output, 1)\n",
    "print(\"Class label:\", predicted)"
   ]
  },
  {
   "cell_type": "markdown",
   "metadata": {},
   "source": [
    "# Train model"
   ]
  },
  {
   "cell_type": "code",
   "execution_count": 19,
   "metadata": {},
   "outputs": [],
   "source": [
    "optimizer = optim.Adam(model.parameters(), lr=0.001)\n",
    "criterion = nn.CrossEntropyLoss()"
   ]
  },
  {
   "cell_type": "code",
   "execution_count": 20,
   "metadata": {},
   "outputs": [
    {
     "name": "stdout",
     "output_type": "stream",
     "text": [
      "Epoch [1/10], Step [1/938], Loss: 1838.8225\n",
      "Epoch [1/10], Step [101/938], Loss: 351.1593\n",
      "Epoch [1/10], Step [201/938], Loss: 224.2021\n",
      "Epoch [1/10], Step [301/938], Loss: 159.2395\n",
      "Epoch [1/10], Step [401/938], Loss: 84.1171\n",
      "Epoch [1/10], Step [501/938], Loss: 56.6741\n",
      "Epoch [1/10], Step [601/938], Loss: 34.3045\n",
      "Epoch [1/10], Step [701/938], Loss: 78.6175\n",
      "Epoch [1/10], Step [801/938], Loss: 82.5765\n",
      "Epoch [1/10], Step [901/938], Loss: 118.0238\n",
      "Epoch 1, Loss: 171.02317666194077\n",
      "Epoch [2/10], Step [1/938], Loss: 22.0084\n",
      "Epoch [2/10], Step [101/938], Loss: 39.4197\n",
      "Epoch [2/10], Step [201/938], Loss: 52.4026\n",
      "Epoch [2/10], Step [301/938], Loss: 23.3177\n",
      "Epoch [2/10], Step [401/938], Loss: 72.7036\n",
      "Epoch [2/10], Step [501/938], Loss: 36.6984\n",
      "Epoch [2/10], Step [601/938], Loss: 20.6708\n",
      "Epoch [2/10], Step [701/938], Loss: 34.9740\n",
      "Epoch [2/10], Step [801/938], Loss: 28.0219\n",
      "Epoch [2/10], Step [901/938], Loss: 58.5584\n",
      "Epoch 2, Loss: 39.09290978039252\n",
      "Epoch [3/10], Step [1/938], Loss: 31.8018\n",
      "Epoch [3/10], Step [101/938], Loss: 14.4223\n",
      "Epoch [3/10], Step [201/938], Loss: 8.8715\n",
      "Epoch [3/10], Step [301/938], Loss: 13.3714\n",
      "Epoch [3/10], Step [401/938], Loss: 23.8105\n",
      "Epoch [3/10], Step [501/938], Loss: 14.0772\n",
      "Epoch [3/10], Step [601/938], Loss: 15.3011\n",
      "Epoch [3/10], Step [701/938], Loss: 15.2273\n",
      "Epoch [3/10], Step [801/938], Loss: 18.4572\n",
      "Epoch [3/10], Step [901/938], Loss: 39.5424\n",
      "Epoch 3, Loss: 23.454986974882928\n",
      "Epoch [4/10], Step [1/938], Loss: 25.6398\n",
      "Epoch [4/10], Step [101/938], Loss: 18.8928\n",
      "Epoch [4/10], Step [201/938], Loss: 13.8721\n",
      "Epoch [4/10], Step [301/938], Loss: 16.3053\n",
      "Epoch [4/10], Step [401/938], Loss: 16.0266\n",
      "Epoch [4/10], Step [501/938], Loss: 16.7894\n",
      "Epoch [4/10], Step [601/938], Loss: 5.7785\n",
      "Epoch [4/10], Step [701/938], Loss: 13.0785\n",
      "Epoch [4/10], Step [801/938], Loss: 3.1874\n",
      "Epoch [4/10], Step [901/938], Loss: 9.4076\n",
      "Epoch 4, Loss: 15.979978481351118\n",
      "Epoch [5/10], Step [1/938], Loss: 9.5027\n",
      "Epoch [5/10], Step [101/938], Loss: 17.6094\n",
      "Epoch [5/10], Step [201/938], Loss: 22.2583\n",
      "Epoch [5/10], Step [301/938], Loss: 7.8649\n",
      "Epoch [5/10], Step [401/938], Loss: 4.5082\n",
      "Epoch [5/10], Step [501/938], Loss: 22.1254\n",
      "Epoch [5/10], Step [601/938], Loss: 2.3655\n",
      "Epoch [5/10], Step [701/938], Loss: 2.6862\n",
      "Epoch [5/10], Step [801/938], Loss: 7.4530\n",
      "Epoch [5/10], Step [901/938], Loss: 19.3329\n",
      "Epoch 5, Loss: 11.596180267346059\n",
      "Epoch [6/10], Step [1/938], Loss: 2.2142\n",
      "Epoch [6/10], Step [101/938], Loss: 11.6764\n",
      "Epoch [6/10], Step [201/938], Loss: 13.2120\n",
      "Epoch [6/10], Step [301/938], Loss: 3.5997\n",
      "Epoch [6/10], Step [401/938], Loss: 15.4557\n",
      "Epoch [6/10], Step [501/938], Loss: 5.1215\n",
      "Epoch [6/10], Step [601/938], Loss: 5.7074\n",
      "Epoch [6/10], Step [701/938], Loss: 13.4266\n",
      "Epoch [6/10], Step [801/938], Loss: 0.8069\n",
      "Epoch [6/10], Step [901/938], Loss: 8.4687\n",
      "Epoch 6, Loss: 8.71968310078631\n",
      "Epoch [7/10], Step [1/938], Loss: 5.2538\n",
      "Epoch [7/10], Step [101/938], Loss: 0.0434\n",
      "Epoch [7/10], Step [201/938], Loss: 16.4229\n",
      "Epoch [7/10], Step [301/938], Loss: 6.6379\n",
      "Epoch [7/10], Step [401/938], Loss: 5.9376\n",
      "Epoch [7/10], Step [501/938], Loss: 11.0926\n",
      "Epoch [7/10], Step [601/938], Loss: 7.3476\n",
      "Epoch [7/10], Step [701/938], Loss: 21.4348\n",
      "Epoch [7/10], Step [801/938], Loss: 9.3837\n",
      "Epoch [7/10], Step [901/938], Loss: 6.7545\n",
      "Epoch 7, Loss: 6.651235642196402\n",
      "Epoch [8/10], Step [1/938], Loss: 0.3255\n",
      "Epoch [8/10], Step [101/938], Loss: 7.4993\n",
      "Epoch [8/10], Step [201/938], Loss: 16.8461\n",
      "Epoch [8/10], Step [301/938], Loss: 0.0204\n",
      "Epoch [8/10], Step [401/938], Loss: 0.9471\n",
      "Epoch [8/10], Step [501/938], Loss: 4.2544\n",
      "Epoch [8/10], Step [601/938], Loss: 1.3137\n",
      "Epoch [8/10], Step [701/938], Loss: 5.8355\n",
      "Epoch [8/10], Step [801/938], Loss: 9.9802\n",
      "Epoch [8/10], Step [901/938], Loss: 0.2451\n",
      "Epoch 8, Loss: 5.200874794411101\n",
      "Epoch [9/10], Step [1/938], Loss: 1.5242\n",
      "Epoch [9/10], Step [101/938], Loss: 1.4006\n",
      "Epoch [9/10], Step [201/938], Loss: 4.5910\n",
      "Epoch [9/10], Step [301/938], Loss: 2.0031\n",
      "Epoch [9/10], Step [401/938], Loss: 4.9390\n",
      "Epoch [9/10], Step [501/938], Loss: 5.9777\n",
      "Epoch [9/10], Step [601/938], Loss: 1.5509\n",
      "Epoch [9/10], Step [701/938], Loss: 4.1227\n",
      "Epoch [9/10], Step [801/938], Loss: 6.5257\n",
      "Epoch [9/10], Step [901/938], Loss: 6.1989\n",
      "Epoch 9, Loss: 4.062197921053852\n",
      "Epoch [10/10], Step [1/938], Loss: 0.0986\n",
      "Epoch [10/10], Step [101/938], Loss: 3.6764\n",
      "Epoch [10/10], Step [201/938], Loss: 0.5225\n",
      "Epoch [10/10], Step [301/938], Loss: 0.2882\n",
      "Epoch [10/10], Step [401/938], Loss: 0.2260\n",
      "Epoch [10/10], Step [501/938], Loss: 1.9733\n",
      "Epoch [10/10], Step [601/938], Loss: 1.2386\n",
      "Epoch [10/10], Step [701/938], Loss: 4.0223\n",
      "Epoch [10/10], Step [801/938], Loss: 4.0201\n",
      "Epoch [10/10], Step [901/938], Loss: 2.1917\n",
      "Epoch 10, Loss: 3.266543481356303\n"
     ]
    }
   ],
   "source": [
    "num_epochs = 10\n",
    "\n",
    "for epoch in range(num_epochs):\n",
    "    model.train()\n",
    "    running_loss = 0.0\n",
    "    for batch_idx, (data, target) in enumerate(train_loader):\n",
    "        data, target = data.to(device), target.to(device)\n",
    "        outputs = model(data)\n",
    "        loss = criterion(outputs, target)\n",
    "        optimizer.zero_grad()\n",
    "        loss.backward()\n",
    "        optimizer.step()\n",
    "        running_loss += loss.item()\n",
    "        if batch_idx % 100 == 0:\n",
    "            print(f'Epoch [{epoch+1}/{num_epochs}], Step [{batch_idx+1}/{len(train_loader)}], Loss: {loss.item():.4f}')\n",
    "    \n",
    "    print(f\"Epoch {epoch+1}, Loss: {running_loss/len(train_loader)}\")"
   ]
  },
  {
   "cell_type": "markdown",
   "metadata": {},
   "source": [
    "# Evaluate Model"
   ]
  },
  {
   "cell_type": "code",
   "execution_count": 21,
   "metadata": {},
   "outputs": [
    {
     "name": "stdout",
     "output_type": "stream",
     "text": [
      "Accuracy on the test set: 92.27%\n"
     ]
    }
   ],
   "source": [
    "model.eval()\n",
    "correct = 0\n",
    "total = 0\n",
    "with torch.no_grad():\n",
    "    for data, target in test_loader:\n",
    "        data, target = data.to(device), target.to(device)\n",
    "        outputs = model(data)\n",
    "        _, predicted = torch.max(outputs.data, 1)\n",
    "        total += target.size(0)\n",
    "        correct += (predicted == target).sum().item()\n",
    "\n",
    "accuracy = 100 * correct / total\n",
    "print(f'Accuracy on the test set: {accuracy:.2f}%')"
   ]
  }
 ],
 "metadata": {
  "kernelspec": {
   "display_name": "Python 3",
   "language": "python",
   "name": "python3"
  },
  "language_info": {
   "codemirror_mode": {
    "name": "ipython",
    "version": 3
   },
   "file_extension": ".py",
   "mimetype": "text/x-python",
   "name": "python",
   "nbconvert_exporter": "python",
   "pygments_lexer": "ipython3",
   "version": "3.12.5"
  }
 },
 "nbformat": 4,
 "nbformat_minor": 2
}
