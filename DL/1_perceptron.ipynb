{
 "cells": [
  {
   "cell_type": "markdown",
   "metadata": {},
   "source": [
    "# Deep Learning | Perceptron\n",
    "\n",
    "Objectives:\n",
    "\n",
    "1. Understand the structure and functionality of the perceptron\n",
    "2. Implement a perceptron\n",
    "3. Train a model for binary classification"
   ]
  },
  {
   "cell_type": "code",
   "execution_count": 1,
   "metadata": {},
   "outputs": [],
   "source": [
    "import os.path\n",
    "import torch\n",
    "import torch.nn as nn"
   ]
  },
  {
   "cell_type": "code",
   "execution_count": 2,
   "metadata": {},
   "outputs": [],
   "source": [
    "X = torch.tensor([[0.0, 0.0], [0.0, 1.0], [1.0, 0.0], [1.0, 1.0]])\n",
    "Y = torch.tensor([[0.0], [0.0], [0.0], [1.0]])"
   ]
  },
  {
   "cell_type": "markdown",
   "metadata": {},
   "source": [
    "let's say, input_size = 2 <br>\n",
    "[x1, x2]<br>\n",
    "[w1, w2]<br>\n",
    "b<br><br>\n",
    "\n",
    "parameters freezing: we may sometimes need to stop calculating gradients for certain parameters"
   ]
  },
  {
   "cell_type": "code",
   "execution_count": 3,
   "metadata": {},
   "outputs": [],
   "source": [
    "class Perceptron(nn.Module):\n",
    "    def __init__(self, input_size):\n",
    "        super(Perceptron, self).__init__()\n",
    "        \n",
    "        self.input_size = input_size\n",
    "        self.weight = nn.Parameter(torch.randn(input_size))\n",
    "        self.bias = nn.Parameter(torch.zeros(1))\n",
    "        \n",
    "    def forward(self, x):\n",
    "        z = x @ self.weight + self.bias\n",
    "        y_pred = torch.sigmoid(z)\n",
    "        return y_pred"
   ]
  },
  {
   "cell_type": "code",
   "execution_count": 4,
   "metadata": {},
   "outputs": [],
   "source": [
    "model = Perceptron(input_size=2)\n",
    "\n",
    "\"\"\" Checkpoint \"\"\"\n",
    "if os.path.exists('my_model.pt'):\n",
    "    model.load_state_dict(torch.load('my_model.pt'))\n",
    "    print('Model loaded!')"
   ]
  },
  {
   "cell_type": "code",
   "execution_count": 5,
   "metadata": {},
   "outputs": [
    {
     "name": "stdout",
     "output_type": "stream",
     "text": [
      "tensor([0.3367, 0.1288])\n",
      "tensor([0.5045], grad_fn=<SigmoidBackward0>)\n"
     ]
    }
   ],
   "source": [
    "torch.manual_seed(42)\n",
    "\n",
    "x = torch.randn(2)\n",
    "print(x)\n",
    "\n",
    "y = model(x)\n",
    "print(y)"
   ]
  },
  {
   "cell_type": "code",
   "execution_count": 6,
   "metadata": {},
   "outputs": [
    {
     "name": "stdout",
     "output_type": "stream",
     "text": [
      "Parameter containing:\n",
      "tensor([-0.0702,  0.3219], requires_grad=True) Parameter containing:\n",
      "tensor([0.], requires_grad=True)\n"
     ]
    }
   ],
   "source": [
    "print(*model.parameters())"
   ]
  },
  {
   "cell_type": "code",
   "execution_count": 7,
   "metadata": {},
   "outputs": [],
   "source": [
    "criterion = nn.BCELoss()\n",
    "optimizer = torch.optim.Adam(\n",
    "    model.parameters(),\n",
    "    lr=0.001\n",
    ")"
   ]
  },
  {
   "cell_type": "markdown",
   "metadata": {},
   "source": [
    "for epoch in epochs:\n",
    "   1. prediction = model(x)\n",
    "   2. calculate loss\n",
    "   3. calculate gradient\n",
    "   4. update weight"
   ]
  },
  {
   "cell_type": "code",
   "execution_count": 8,
   "metadata": {},
   "outputs": [],
   "source": [
    "def train_model(model, epochs):\n",
    "    for epoch in range(epochs):\n",
    "        \"\"\" Prediction \"\"\"\n",
    "        y_pred = model(X)\n",
    "        \n",
    "        \"\"\" Loss calculation \"\"\"\n",
    "        loss = criterion(y_pred.unsqueeze(1), Y)\n",
    "\n",
    "        \"\"\" Calculate gradient \"\"\"\n",
    "        optimizer.zero_grad()\n",
    "        loss.backward()\n",
    "\n",
    "        \"\"\" Update weight \"\"\"\n",
    "        optimizer.step()\n",
    "        \n",
    "        if epoch % 1000 == 0:\n",
    "            print(f'Epoch: {epoch}, Loss: {loss.item():.4f}')"
   ]
  },
  {
   "cell_type": "code",
   "execution_count": 11,
   "metadata": {},
   "outputs": [
    {
     "name": "stdout",
     "output_type": "stream",
     "text": [
      "Epoch: 0, Loss: 0.0574\n",
      "Epoch: 1000, Loss: 0.0452\n",
      "Epoch: 2000, Loss: 0.0356\n",
      "Epoch: 3000, Loss: 0.0280\n",
      "Epoch: 4000, Loss: 0.0220\n",
      "Epoch: 5000, Loss: 0.0173\n",
      "Epoch: 6000, Loss: 0.0136\n",
      "Epoch: 7000, Loss: 0.0107\n",
      "Epoch: 8000, Loss: 0.0084\n",
      "Epoch: 9000, Loss: 0.0066\n"
     ]
    }
   ],
   "source": [
    "train_model(model, epochs=10000)"
   ]
  },
  {
   "cell_type": "code",
   "execution_count": 12,
   "metadata": {},
   "outputs": [
    {
     "data": {
      "text/plain": [
       "tensor([3.3657e-07, 6.9032e-03, 6.9080e-03, 9.9309e-01])"
      ]
     },
     "execution_count": 12,
     "metadata": {},
     "output_type": "execute_result"
    }
   ],
   "source": [
    "def predict(model, X):\n",
    "    model.eval()\n",
    "    with torch.no_grad():\n",
    "        test_output = model(X)\n",
    "    return test_output\n",
    "\n",
    "predict(model, X)"
   ]
  },
  {
   "cell_type": "code",
   "execution_count": 19,
   "metadata": {},
   "outputs": [
    {
     "name": "stdout",
     "output_type": "stream",
     "text": [
      "Parameter containing:\n",
      "tensor([9.9363, 9.9356], requires_grad=True) Parameter containing:\n",
      "tensor([-14.9045], requires_grad=True)\n"
     ]
    }
   ],
   "source": [
    "print(*model.parameters())"
   ]
  },
  {
   "cell_type": "code",
   "execution_count": 17,
   "metadata": {},
   "outputs": [],
   "source": [
    "torch.save(model.state_dict(), '../Model/perceptron_model.pt')"
   ]
  },
  {
   "cell_type": "markdown",
   "metadata": {},
   "source": [
    "## Load the model \n",
    "1. For prediction\n",
    "2. For resuming training."
   ]
  },
  {
   "cell_type": "code",
   "execution_count": 18,
   "metadata": {},
   "outputs": [
    {
     "name": "stderr",
     "output_type": "stream",
     "text": [
      "C:\\Users\\ADMIN\\AppData\\Local\\Temp\\ipykernel_19164\\1116106025.py:3: FutureWarning: You are using `torch.load` with `weights_only=False` (the current default value), which uses the default pickle module implicitly. It is possible to construct malicious pickle data which will execute arbitrary code during unpickling (See https://github.com/pytorch/pytorch/blob/main/SECURITY.md#untrusted-models for more details). In a future release, the default value for `weights_only` will be flipped to `True`. This limits the functions that could be executed during unpickling. Arbitrary objects will no longer be allowed to be loaded via this mode unless they are explicitly allowlisted by the user via `torch.serialization.add_safe_globals`. We recommend you start setting `weights_only=True` for any use case where you don't have full control of the loaded file. Please open an issue on GitHub for any issues related to this experimental feature.\n",
      "  loaded_model.load_state_dict(torch.load('../Model/perceptron_model.pt'))\n"
     ]
    },
    {
     "data": {
      "text/plain": [
       "<All keys matched successfully>"
      ]
     },
     "execution_count": 18,
     "metadata": {},
     "output_type": "execute_result"
    }
   ],
   "source": [
    "loaded_model = Perceptron(input_size=2)\n",
    "\n",
    "loaded_model.load_state_dict(torch.load('../Model/perceptron_model.pt'))"
   ]
  },
  {
   "cell_type": "code",
   "execution_count": 20,
   "metadata": {},
   "outputs": [
    {
     "name": "stdout",
     "output_type": "stream",
     "text": [
      "Parameter containing:\n",
      "tensor([9.9363, 9.9356], requires_grad=True) Parameter containing:\n",
      "tensor([-14.9045], requires_grad=True)\n"
     ]
    }
   ],
   "source": [
    "print(*loaded_model.parameters())"
   ]
  }
 ],
 "metadata": {
  "kernelspec": {
   "display_name": "Python 3",
   "language": "python",
   "name": "python3"
  },
  "language_info": {
   "codemirror_mode": {
    "name": "ipython",
    "version": 3
   },
   "file_extension": ".py",
   "mimetype": "text/x-python",
   "name": "python",
   "nbconvert_exporter": "python",
   "pygments_lexer": "ipython3",
   "version": "3.12.5"
  }
 },
 "nbformat": 4,
 "nbformat_minor": 2
}
