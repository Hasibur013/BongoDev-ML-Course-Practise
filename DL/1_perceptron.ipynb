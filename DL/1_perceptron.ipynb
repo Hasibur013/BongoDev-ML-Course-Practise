{
 "cells": [
  {
   "cell_type": "markdown",
   "metadata": {},
   "source": [
    "# Deep Learning | Perceptron\n",
    "\n",
    "Objectives:\n",
    "\n",
    "1. Understand the structure and functionality of the perceptron\n",
    "2. Implement a perceptron\n",
    "3. Train a model for binary classification"
   ]
  }
 ],
 "metadata": {
  "language_info": {
   "name": "python"
  }
 },
 "nbformat": 4,
 "nbformat_minor": 2
}
