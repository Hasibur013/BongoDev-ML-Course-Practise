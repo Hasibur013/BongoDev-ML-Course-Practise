{
 "cells": [
  {
   "cell_type": "markdown",
   "metadata": {},
   "source": [
    "# Today's Topic\n",
    "- numpy filter\n",
    "- using boolean mask\n",
    "- using conditionals\n",
    "- using indices\n",
    "- using custom filter method\n",
    "\n",
    "# Objectives: \n",
    "1. We will learn important numpy functions\n",
    "   - unique =>  unique values\n",
    "   - argmax, argmin => finds the index of an max/min element in a numpy array\n",
    "   - arange => creates sequential numpy arrays\n",
    "   - linspace => creates sequential numpy arrays with linear space\n",
    "   - split => splits a numpy array into different arrays\n",
    "   - dot => creates sequential numpy arrays with dot product\n",
    "   - mean, median, std => generate statistical values\n",
    "   - concatenate (Check Axis in the PPT)\n",
    "   - vstack, hstack\n",
    "   - sum\n",
    "2. We will learn how to use random\n",
    "3. We will understand vectorization\n",
    "4. We will understand Broadcasting"
   ]
  },
  {
   "cell_type": "code",
   "execution_count": 1,
   "metadata": {},
   "outputs": [],
   "source": [
    "\n",
    "import numpy as np"
   ]
  },
  {
   "cell_type": "code",
   "execution_count": 2,
   "metadata": {},
   "outputs": [
    {
     "name": "stdout",
     "output_type": "stream",
     "text": [
      "[1 2 3 4 5]\n"
     ]
    }
   ],
   "source": [
    "np_array = np.array([1, 2, 3, 4, 5])\n",
    "print(np_array)"
   ]
  },
  {
   "cell_type": "markdown",
   "metadata": {},
   "source": [
    "# Boolean mask"
   ]
  },
  {
   "cell_type": "code",
   "execution_count": 3,
   "metadata": {},
   "outputs": [
    {
     "name": "stdout",
     "output_type": "stream",
     "text": [
      "[1 3 5]\n"
     ]
    }
   ],
   "source": [
    "\n",
    "filter_mask = [True, False, True, False, True]\n",
    "new_array = np_array[filter_mask]\n",
    "print(new_array)"
   ]
  },
  {
   "cell_type": "markdown",
   "metadata": {},
   "source": [
    "# conditionals"
   ]
  },
  {
   "cell_type": "code",
   "execution_count": 4,
   "metadata": {},
   "outputs": [
    {
     "name": "stdout",
     "output_type": "stream",
     "text": [
      "[1 3 5]\n"
     ]
    }
   ],
   "source": [
    "\n",
    "filter_mask = np_array % 2 == 1 \n",
    "new_array = np_array[filter_mask]\n",
    "print(new_array)"
   ]
  },
  {
   "cell_type": "markdown",
   "metadata": {},
   "source": [
    "# indices"
   ]
  },
  {
   "cell_type": "code",
   "execution_count": 5,
   "metadata": {},
   "outputs": [
    {
     "data": {
      "text/plain": [
       "array([1, 3, 5])"
      ]
     },
     "execution_count": 5,
     "metadata": {},
     "output_type": "execute_result"
    }
   ],
   "source": [
    "\n",
    "indices = np.where(np_array % 2 == 1)\n",
    "new_array = np_array[indices]\n",
    "new_array"
   ]
  },
  {
   "cell_type": "markdown",
   "metadata": {},
   "source": [
    "# custom filter method"
   ]
  },
  {
   "cell_type": "code",
   "execution_count": 9,
   "metadata": {},
   "outputs": [
    {
     "name": "stdout",
     "output_type": "stream",
     "text": [
      "<filter object at 0x000001791851C280>\n",
      "[1 3 5]\n"
     ]
    }
   ],
   "source": [
    "\n",
    "def my_filter_method(x):\n",
    "    \"\"\"Logic\"\"\"\n",
    "    if x % 2 == 0:\n",
    "        return False\n",
    "    return True\n",
    "\n",
    "filtered_iterable = filter(my_filter_method, np_array)\n",
    "print(filtered_iterable)\n",
    "my_filtered_array = np.array(\n",
    "    list(filtered_iterable)\n",
    ")\n",
    "\n",
    "print(my_filtered_array)"
   ]
  },
  {
   "cell_type": "markdown",
   "metadata": {},
   "source": [
    "# Copy and View\n",
    "pass by value and pass by reference"
   ]
  },
  {
   "cell_type": "code",
   "execution_count": 11,
   "metadata": {},
   "outputs": [
    {
     "name": "stdout",
     "output_type": "stream",
     "text": [
      "Original array: [1 2 3 4 5]\n",
      "[7 2 3 4 5]\n",
      "[1 2 3 4 5]\n"
     ]
    }
   ],
   "source": [
    "print(\"Original array:\", np_array)\n",
    "\n",
    "my_np_array_copy = np_array.copy()\n",
    "\n",
    "my_np_array_copy[0] = 7\n",
    "print(my_np_array_copy)\n",
    "print(np_array)"
   ]
  },
  {
   "cell_type": "code",
   "execution_count": 12,
   "metadata": {},
   "outputs": [
    {
     "name": "stdout",
     "output_type": "stream",
     "text": [
      "Original array: [1 2 3 4 5]\n",
      "[ 7  2  3  4 10]\n",
      "[ 7  2  3  4 10]\n"
     ]
    }
   ],
   "source": [
    "print(\"Original array:\", np_array)\n",
    "\n",
    "my_np_array_view = np_array.view()\n",
    "\n",
    "my_np_array_view[0] = 7\n",
    "np_array[4] = 10\n",
    "print(my_np_array_view)\n",
    "print(np_array)"
   ]
  },
  {
   "cell_type": "markdown",
   "metadata": {},
   "source": [
    "# Numpy reshape\n",
    "- Condition: multiplication of values before and after reshaping must be same\n"
   ]
  },
  {
   "cell_type": "code",
   "execution_count": 14,
   "metadata": {},
   "outputs": [
    {
     "name": "stdout",
     "output_type": "stream",
     "text": [
      "(5, 3)\n",
      "[[5 5 5]\n",
      " [5 5 5]\n",
      " [5 5 5]\n",
      " [5 5 5]\n",
      " [5 5 5]]\n",
      "(3, 5)\n",
      "[[5 5 5 5 5]\n",
      " [5 5 5 5 5]\n",
      " [5 5 5 5 5]]\n"
     ]
    }
   ],
   "source": [
    "np_array = np.full(\n",
    "    shape=(5, 3),\n",
    "    dtype='int',\n",
    "    fill_value=5,\n",
    ")\n",
    "\n",
    "my_np_array_reshaped = np_array.reshape(3, 5)\n",
    "\n",
    "print(np_array.shape)\n",
    "print(np_array)\n",
    "print(my_np_array_reshaped.shape)\n",
    "print(my_np_array_reshaped)"
   ]
  },
  {
   "cell_type": "markdown",
   "metadata": {},
   "source": [
    "# Numpy reshape\n",
    "- Step 1. flattening -> 1D\n",
    "- Step 2. reshaping\n"
   ]
  },
  {
   "cell_type": "code",
   "execution_count": 16,
   "metadata": {},
   "outputs": [
    {
     "name": "stdout",
     "output_type": "stream",
     "text": [
      "[[1 2 3 4]\n",
      " [5 8 9 5]\n",
      " [7 1 2 7]]\n",
      "[1 2 3 4 5 8 9 5 7 1 2 7]\n",
      "[[1 2 3 4 5 8]\n",
      " [9 5 7 1 2 7]]\n"
     ]
    }
   ],
   "source": [
    "my_2d_array =  np.array([[1, 2, 3, 4], [5, 8, 9, 5], [7, 1, 2, 7]])\n",
    "print(my_2d_array)\n",
    "print(my_2d_array.flatten())\n",
    "print(my_2d_array.reshape(2, 6))"
   ]
  },
  {
   "cell_type": "markdown",
   "metadata": {},
   "source": [
    "# Sort"
   ]
  },
  {
   "cell_type": "code",
   "execution_count": 17,
   "metadata": {},
   "outputs": [
    {
     "name": "stdout",
     "output_type": "stream",
     "text": [
      "[0.3 0.3 0.4]\n",
      "[0.4 0.3 0.3]\n"
     ]
    }
   ],
   "source": [
    "\n",
    "prediction = [0.3, 0.3, 0.4]\n",
    "print(np.sort(prediction))\n",
    "print(np.sort(prediction)[::-1])"
   ]
  },
  {
   "cell_type": "markdown",
   "metadata": {},
   "source": [
    "# Iteration"
   ]
  },
  {
   "cell_type": "code",
   "execution_count": 18,
   "metadata": {},
   "outputs": [
    {
     "name": "stdout",
     "output_type": "stream",
     "text": [
      "[1 2 3 4 5]\n",
      "1, 2, 3, 4, 5, \n",
      "1, 2, 3, 4, 5, \n",
      "0 1\n",
      "1 2\n",
      "2 3\n",
      "3 4\n",
      "4 5\n"
     ]
    }
   ],
   "source": [
    "my_1d_array =  np.array([1, 2, 3, 4, 5])\n",
    "\n",
    "print(my_1d_array)\n",
    "\n",
    "\"\"\"Iterate by value\"\"\"\n",
    "for x in my_1d_array:\n",
    "    print(x, end=', ')\n",
    "    \n",
    "print()\n",
    "\n",
    "\"\"\"Iterate by index\"\"\"\n",
    "for i in range(len(my_1d_array)):\n",
    "    print(my_1d_array[i], end=', ')\n",
    "print()\n",
    "\n",
    "\"\"\"Enumerate\"\"\"\n",
    "for i, x in enumerate(my_1d_array):\n",
    "    print(i, x)"
   ]
  },
  {
   "cell_type": "markdown",
   "metadata": {},
   "source": [
    "# Unique Function"
   ]
  },
  {
   "cell_type": "code",
   "execution_count": 19,
   "metadata": {},
   "outputs": [
    {
     "name": "stdout",
     "output_type": "stream",
     "text": [
      "[1 5 7]\n"
     ]
    }
   ],
   "source": [
    "my_np_array = np.array([1, 5, 1, 1, 5, 7])\n",
    "unique_elements = np.unique(my_np_array)\n",
    "print(unique_elements)"
   ]
  },
  {
   "cell_type": "markdown",
   "metadata": {},
   "source": [
    "# argmax/argmin function"
   ]
  },
  {
   "cell_type": "code",
   "execution_count": 20,
   "metadata": {},
   "outputs": [
    {
     "name": "stdout",
     "output_type": "stream",
     "text": [
      "5 0\n"
     ]
    }
   ],
   "source": [
    "index_max = np.argmax(my_np_array)\n",
    "index_min = np.argmin(my_np_array)\n",
    "\n",
    "print(index_max, index_min)"
   ]
  },
  {
   "cell_type": "markdown",
   "metadata": {},
   "source": [
    "# arrange() function"
   ]
  },
  {
   "cell_type": "code",
   "execution_count": 21,
   "metadata": {},
   "outputs": [
    {
     "name": "stdout",
     "output_type": "stream",
     "text": [
      "[1 2 3 4 5 6 7 8 9]\n"
     ]
    }
   ],
   "source": [
    "my_array = np.arange(1, 10)\n",
    "print(my_array)"
   ]
  },
  {
   "cell_type": "markdown",
   "metadata": {},
   "source": [
    "# linspace() function"
   ]
  },
  {
   "cell_type": "code",
   "execution_count": 22,
   "metadata": {},
   "outputs": [
    {
     "name": "stdout",
     "output_type": "stream",
     "text": [
      "[ 0.   2.5  5.   7.5 10. ]\n"
     ]
    }
   ],
   "source": [
    "my_np_array = np.linspace(\n",
    "    start=0,\n",
    "    stop=10,\n",
    "    num=5\n",
    ")\n",
    "print(my_np_array)"
   ]
  },
  {
   "cell_type": "markdown",
   "metadata": {},
   "source": [
    "# split() function"
   ]
  },
  {
   "cell_type": "code",
   "execution_count": 23,
   "metadata": {},
   "outputs": [
    {
     "name": "stdout",
     "output_type": "stream",
     "text": [
      "[array([1, 5, 1]), array([1, 5, 7])]\n"
     ]
    }
   ],
   "source": [
    "my_np_array = np.array([1, 5, 1, 1, 5, 7])\n",
    "\n",
    "new_np_array = np.split(\n",
    "    my_np_array, \n",
    "    indices_or_sections=2\n",
    ")\n",
    "print(new_np_array)"
   ]
  },
  {
   "cell_type": "markdown",
   "metadata": {},
   "source": [
    "# dot() function"
   ]
  },
  {
   "cell_type": "code",
   "execution_count": 24,
   "metadata": {},
   "outputs": [
    {
     "name": "stdout",
     "output_type": "stream",
     "text": [
      "[1 2 3]\n",
      "[3 4 5]\n",
      "26\n"
     ]
    }
   ],
   "source": [
    "#  *  = 1 x 3 + 2 x 4 + 3 x 5 = 26\n",
    "my_np_array_1 = np.array(\n",
    "    [1, 2, 3]\n",
    ")\n",
    "\n",
    "my_np_array_2 = np.array(\n",
    "    [3, 4, 5]\n",
    ")\n",
    "\n",
    "print(my_np_array_1)\n",
    "print(my_np_array_2)\n",
    "\n",
    "dot_product = np.dot(my_np_array_1, my_np_array_2)\n",
    "print(dot_product)"
   ]
  },
  {
   "cell_type": "markdown",
   "metadata": {},
   "source": [
    "# mean(), median(), std()  function"
   ]
  },
  {
   "cell_type": "code",
   "execution_count": 25,
   "metadata": {},
   "outputs": [
    {
     "name": "stdout",
     "output_type": "stream",
     "text": [
      "2.0\n",
      "2.0\n",
      "0.816496580927726\n"
     ]
    }
   ],
   "source": [
    "print(np.mean(my_np_array_1))\n",
    "print(np.median(my_np_array_1))\n",
    "print(np.std(my_np_array_1))"
   ]
  },
  {
   "cell_type": "markdown",
   "metadata": {},
   "source": [
    "# Vectorization"
   ]
  },
  {
   "cell_type": "code",
   "execution_count": 26,
   "metadata": {},
   "outputs": [
    {
     "name": "stdout",
     "output_type": "stream",
     "text": [
      "[1 2 3 4 5]\n"
     ]
    },
    {
     "data": {
      "text/plain": [
       "array([ True, False,  True, False,  True])"
      ]
     },
     "execution_count": 26,
     "metadata": {},
     "output_type": "execute_result"
    }
   ],
   "source": [
    "\n",
    "my_1d_array = np.array(\n",
    "    [1, 2, 3, 4, 5]\n",
    ")\n",
    "\n",
    "print(my_1d_array)\n",
    "\n",
    "my_1d_array % 2 == 1"
   ]
  },
  {
   "cell_type": "code",
   "execution_count": 32,
   "metadata": {},
   "outputs": [
    {
     "name": "stdout",
     "output_type": "stream",
     "text": [
      "[ 6  7  8  9 10]\n"
     ]
    }
   ],
   "source": [
    "my_1d_array = np.array(\n",
    "    [1, 2, 3, 4, 5]\n",
    ")\n",
    "\n",
    "for x in my_1d_array:\n",
    "    x = x + 5\n",
    "    \n",
    "my_1d_array = my_1d_array + 5\n",
    "print(my_1d_array)"
   ]
  },
  {
   "cell_type": "markdown",
   "metadata": {},
   "source": [
    "# Broadcasting\n",
    "- converting a lower shape into higher shape for vectorization"
   ]
  },
  {
   "cell_type": "code",
   "execution_count": 37,
   "metadata": {},
   "outputs": [
    {
     "data": {
      "text/plain": [
       "array([[  3,   8],\n",
       "       [  5,  12],\n",
       "       [  7, -16],\n",
       "       [ -5,  -6]])"
      ]
     },
     "execution_count": 37,
     "metadata": {},
     "output_type": "execute_result"
    }
   ],
   "source": [
    "\n",
    "# (2,)\n",
    "# (4, 2)\n",
    "w = np.array(\n",
    "    [1, 2]\n",
    "    )\n",
    "\n",
    "\n",
    "x = np.array([\n",
    "    [3, 4], \n",
    "    [5, 6],\n",
    "    [7, -8],\n",
    "    [-5, -3]\n",
    "])\n",
    "\n",
    "w * x"
   ]
  },
  {
   "cell_type": "code",
   "execution_count": 34,
   "metadata": {},
   "outputs": [
    {
     "data": {
      "text/plain": [
       "array([3, 8])"
      ]
     },
     "execution_count": 34,
     "metadata": {},
     "output_type": "execute_result"
    }
   ],
   "source": [
    "np.array([1, 2]) * np.array([3, 4])"
   ]
  }
 ],
 "metadata": {
  "kernelspec": {
   "display_name": "Python 3",
   "language": "python",
   "name": "python3"
  },
  "language_info": {
   "codemirror_mode": {
    "name": "ipython",
    "version": 3
   },
   "file_extension": ".py",
   "mimetype": "text/x-python",
   "name": "python",
   "nbconvert_exporter": "python",
   "pygments_lexer": "ipython3",
   "version": "3.12.5"
  }
 },
 "nbformat": 4,
 "nbformat_minor": 2
}
