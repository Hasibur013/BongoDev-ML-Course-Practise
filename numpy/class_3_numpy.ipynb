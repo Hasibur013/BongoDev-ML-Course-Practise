{
 "cells": [
  {
   "cell_type": "markdown",
   "metadata": {},
   "source": [
    "# Numpy - Axis and Random\n",
    "Objectives:\n",
    "\n",
    "1. We will understand numpy axis\n",
    "   - concatenate\n",
    "   - sum\n",
    "2. We will learn how to use random"
   ]
  },
  {
   "cell_type": "code",
   "execution_count": 2,
   "metadata": {},
   "outputs": [],
   "source": [
    "import numpy as np"
   ]
  },
  {
   "cell_type": "markdown",
   "metadata": {},
   "source": [
    "# matrix transpose "
   ]
  },
  {
   "cell_type": "code",
   "execution_count": 3,
   "metadata": {},
   "outputs": [
    {
     "name": "stdout",
     "output_type": "stream",
     "text": [
      "[[2 7]\n",
      " [1 5]\n",
      " [3 6]]\n"
     ]
    }
   ],
   "source": [
    "\n",
    "my_2d_array_1 = np.array(\n",
    "    [[2, 1, 3],\n",
    "     [7, 5, 6]]\n",
    ")\n",
    "\n",
    "print(my_2d_array_1.T)\n",
    "#print(my_2d_array_1.transpose())"
   ]
  },
  {
   "cell_type": "markdown",
   "metadata": {},
   "source": [
    " # Reshaping with -1"
   ]
  },
  {
   "cell_type": "code",
   "execution_count": 4,
   "metadata": {},
   "outputs": [
    {
     "name": "stdout",
     "output_type": "stream",
     "text": [
      "[2 1 3 7 5 6]\n"
     ]
    }
   ],
   "source": [
    "\n",
    "my_2d_array_1 = np.array(\n",
    "    [[2, 1, 3],\n",
    "     [7, 5, 6]]\n",
    ")\n",
    "\n",
    "print(my_2d_array_1.reshape(-1))"
   ]
  },
  {
   "cell_type": "markdown",
   "metadata": {},
   "source": [
    "# Reshape the input array into (3, 80)"
   ]
  },
  {
   "cell_type": "code",
   "execution_count": 6,
   "metadata": {},
   "outputs": [
    {
     "name": "stdout",
     "output_type": "stream",
     "text": [
      "(3, 4, 2, 10)\n",
      "(3, 80)\n",
      "[[[[1.19619589e-311 1.19616850e-311 5.33096832e-321             nan\n",
      "    4.94065646e-322 3.95984655e+257 9.03292329e+271 1.52535471e+190\n",
      "    3.18487602e-114 8.56486049e+183]\n",
      "   [1.15992674e+253 4.82191872e+233 6.22651684e+228 2.21525978e+214\n",
      "    8.56486049e+183 4.77402336e+180 1.10871574e+219 1.29778873e+243\n",
      "    6.01346953e-154 2.59441390e+161]]\n",
      "\n",
      "  [[2.45474676e+198 4.19338640e+228 1.47311266e+171 7.13222113e-154\n",
      "    4.96042866e+180 1.88777559e+219 6.23537913e+228 5.72093048e+188\n",
      "    2.02763010e+174 2.46291819e+198]\n",
      "   [1.69264133e-139 6.62901802e+265 6.20280733e+223 4.70102441e+180\n",
      "    6.23537913e+228 1.49005471e+195 4.44003833e+252 2.86530675e+161\n",
      "    7.13222113e-154 3.98837334e+252]]\n",
      "\n",
      "  [[2.16194291e+233 7.10233174e+194 1.33293953e+179 5.29061148e+180\n",
      "    8.92883155e+271 1.81596891e-152 5.28964318e+180 1.69264133e-139\n",
      "    3.98837335e+252 1.06400624e+248]\n",
      "   [4.72883470e+164 8.73977450e+183 1.00953367e+190 3.27842380e-085\n",
      "    9.82157873e+252 4.81418925e+199 1.39194310e-142 3.98386110e+252\n",
      "    3.28663362e-085 8.75195332e+164]]\n",
      "\n",
      "  [[9.80058441e+252 1.94913472e-153 1.12506379e+267 2.00008962e+174\n",
      "    3.76435920e+199 1.03234438e-259 1.81786144e+185 2.21210366e+214\n",
      "    9.75025264e+199 5.98157061e-154]\n",
      "   [4.70075024e+180 4.90363071e+252 9.08254284e+223 3.94811624e+180\n",
      "    1.38501007e+219 5.00760500e+217 1.96096836e+243 5.28595592e-085\n",
      "    2.93625480e-062 1.05146955e-153]]]\n",
      "\n",
      "\n",
      " [[[4.11309726e+223 7.35874688e+223 5.37855535e+151 1.40023417e+195\n",
      "    4.11309726e+223 7.35874688e+223 5.37855535e+151 4.71528636e+180\n",
      "    8.96906091e-096 1.71872026e+161]\n",
      "   [3.77089505e+233 1.02404514e-259 1.81786144e+185 7.33953009e+223\n",
      "    6.01346953e-154 5.13899778e-027 6.01347002e-154 9.82157873e+252\n",
      "    1.43679055e+161 4.06869842e+233]]\n",
      "\n",
      "  [[9.08367203e+223 1.17516029e+171 2.46408623e+179 9.08367237e+223\n",
      "    2.88854907e+214 3.75969220e+199 6.96411093e+252 8.03379536e+294\n",
      "    5.39845192e+242 6.01346953e-154]\n",
      "   [2.52475888e+180 2.65648935e+233 2.31261083e-152 6.01347002e-154\n",
      "    1.91002772e+227 5.26153710e+233 8.11961025e+159 9.75012840e+199\n",
      "    1.86917505e+261 1.01258305e+190]]\n",
      "\n",
      "  [[9.78750380e+199 1.96255522e+243 1.67494811e+243 3.95315847e-114\n",
      "    1.32903595e-012 2.64624249e-260 4.77389672e+180 3.04040186e+180\n",
      "    4.16865237e+199 5.57102646e+228]\n",
      "   [2.55330150e-086 1.02265778e-259 9.11738624e+276 6.48224748e+170\n",
      "    6.97571181e+228 1.02264471e-259 3.95984655e+257 9.03292329e+271\n",
      "    1.52535471e+190 6.98064105e-307]]\n",
      "\n",
      "  [[6.65153851e+223 3.55216482e-188 0.00000000e+000 6.95295916e-310\n",
      "    5.36555291e-321             nan 4.94065646e-322 3.95984655e+257\n",
      "    9.03292329e+271 1.52535471e+190]\n",
      "   [3.18487602e-114 8.56486049e+183 1.15992674e+253 4.82191872e+233\n",
      "    6.22651684e+228 2.21525978e+214 8.56486049e+183 4.77402336e+180\n",
      "    1.10871574e+219 1.29778873e+243]]]\n",
      "\n",
      "\n",
      " [[[6.01346953e-154 2.59441390e+161 2.45474676e+198 4.19338640e+228\n",
      "    1.47311266e+171 7.13222113e-154 4.96042866e+180 1.88777559e+219\n",
      "    6.23537913e+228 5.72093048e+188]\n",
      "   [2.02763010e+174 2.46291819e+198 1.69264133e-139 6.62901802e+265\n",
      "    6.20280733e+223 4.70102441e+180 6.23537913e+228 1.49005471e+195\n",
      "    4.44003833e+252 2.86530675e+161]]\n",
      "\n",
      "  [[7.13222113e-154 3.98837334e+252 2.16194291e+233 7.10233174e+194\n",
      "    1.33293953e+179 5.29061148e+180 8.92883155e+271 1.81596891e-152\n",
      "    5.28964318e+180 1.69264133e-139]\n",
      "   [3.98837335e+252 1.06400624e+248 4.72883470e+164 8.73977450e+183\n",
      "    1.00953367e+190 3.27842380e-085 9.82157873e+252 4.81418925e+199\n",
      "    1.39194310e-142 3.98386110e+252]]\n",
      "\n",
      "  [[3.28663362e-085 8.75195332e+164 9.80058441e+252 1.94913586e-153\n",
      "    1.12506379e+267 2.00008962e+174 3.76435920e+199 1.03234438e-259\n",
      "    1.81786144e+185 2.21210366e+214]\n",
      "   [9.75025264e+199 5.98157061e-154 4.70075024e+180 4.90363071e+252\n",
      "    9.08254284e+223 3.94811624e+180 1.38501007e+219 5.00760500e+217\n",
      "    1.96096836e+243 5.28595592e-085]]\n",
      "\n",
      "  [[2.93625480e-062 1.05146955e-153 4.11309726e+223 7.35874688e+223\n",
      "    5.37855535e+151 1.40023417e+195 4.11309726e+223 7.35874688e+223\n",
      "    5.37855535e+151 4.71528636e+180]\n",
      "   [8.96906091e-096 1.71872026e+161 3.77089505e+233 4.07246102e-144\n",
      "    2.65856984e-260 1.33629952e-152 6.17463846e-114 6.01347002e-154\n",
      "    2.15233524e-259 6.01347002e-154]]]]\n"
     ]
    }
   ],
   "source": [
    "my_np_array = np.empty((3, 4, 2, 10))\n",
    "\n",
    "print(my_np_array.shape)\n",
    "\n",
    "print(my_np_array.reshape(3, -1).shape)\n",
    "print(my_np_array)"
   ]
  },
  {
   "cell_type": "code",
   "execution_count": 7,
   "metadata": {},
   "outputs": [
    {
     "name": "stdout",
     "output_type": "stream",
     "text": [
      "(2, 12, 2)\n"
     ]
    }
   ],
   "source": [
    "print(np.ones((3, 4, 2, 2)).reshape(2, -1, 2).shape)"
   ]
  },
  {
   "cell_type": "code",
   "execution_count": 8,
   "metadata": {},
   "outputs": [
    {
     "name": "stdout",
     "output_type": "stream",
     "text": [
      "[[0. 0.]\n",
      " [0. 0.]\n",
      " [0. 0.]\n",
      " [0. 0.]]\n",
      "[0. 0.]\n",
      "[[0.]\n",
      " [0.]\n",
      " [0.]\n",
      " [0.]]\n"
     ]
    }
   ],
   "source": [
    "\"\"\" Get columns from a numpy array \"\"\"\n",
    "\n",
    "my_np_array = np.empty((4, 2))\n",
    "\n",
    "print(my_np_array)\n",
    "print(my_np_array[0,:])\n",
    "\n",
    "print(my_np_array[:,[0]])"
   ]
  },
  {
   "cell_type": "code",
   "execution_count": 9,
   "metadata": {},
   "outputs": [
    {
     "name": "stdout",
     "output_type": "stream",
     "text": [
      "(3, 2, 2)\n"
     ]
    }
   ],
   "source": [
    "my_np_array = np.empty((3, 4, 2))\n",
    "\n",
    "print(my_np_array[:,[0, 2],:].shape)"
   ]
  },
  {
   "cell_type": "markdown",
   "metadata": {},
   "source": [
    "# Numpy Axis: concatenate()"
   ]
  },
  {
   "cell_type": "code",
   "execution_count": 10,
   "metadata": {},
   "outputs": [
    {
     "name": "stdout",
     "output_type": "stream",
     "text": [
      "[[1 1 1 2 2 2]\n",
      " [1 1 1 2 2 2]]\n",
      "my_2d_array_1.shape (2, 3)\n",
      "my_2d_array_2.shape (2, 3)\n",
      "my_2d_array_joined.shape (2, 6)\n"
     ]
    }
   ],
   "source": [
    "my_2d_array_1 = np.array(\n",
    "    [[1, 1, 1],\n",
    "     [1, 1, 1]]\n",
    ")\n",
    "\n",
    "my_2d_array_2 = np.array(\n",
    "    [[2, 2, 2], \n",
    "     [2, 2, 2]]\n",
    ")\n",
    "\n",
    "my_2d_array_joined = np.concatenate(\n",
    "    (my_2d_array_1, my_2d_array_2), \n",
    "    axis=1\n",
    ")\n",
    "\n",
    "print(my_2d_array_joined)\n",
    "print(\"my_2d_array_1.shape\", my_2d_array_1.shape)\n",
    "print(\"my_2d_array_2.shape\", my_2d_array_2.shape)\n",
    "print(\"my_2d_array_joined.shape\", my_2d_array_joined.shape)"
   ]
  },
  {
   "cell_type": "code",
   "execution_count": 11,
   "metadata": {},
   "outputs": [
    {
     "data": {
      "text/plain": [
       "(8, 2, 10)"
      ]
     },
     "execution_count": 11,
     "metadata": {},
     "output_type": "execute_result"
    }
   ],
   "source": [
    "# (4, 2, 10) = (axis=0, axis=1, axis=2)\n",
    "my_md_array_1 = np.empty((4, 2, 10))\n",
    "my_md_array_2 = np.empty((4, 2, 10))\n",
    "\n",
    "my_md_array_joined = np.concatenate(\n",
    "    (my_md_array_1, my_md_array_2),\n",
    "    axis=0,\n",
    ")\n",
    "\n",
    "my_md_array_joined.shape"
   ]
  },
  {
   "cell_type": "markdown",
   "metadata": {},
   "source": [
    "# Sum => aggregation"
   ]
  },
  {
   "cell_type": "code",
   "execution_count": 12,
   "metadata": {},
   "outputs": [
    {
     "name": "stdout",
     "output_type": "stream",
     "text": [
      "(2, 3)\n",
      "[1 6 7]\n",
      "(3,)\n"
     ]
    }
   ],
   "source": [
    "\n",
    "my_np_array = np.array(\n",
    "    [[1, 5, -2],\n",
    "     [0, 1, 9]]\n",
    ")\n",
    "\n",
    "print(my_np_array.shape)\n",
    "print(np.sum(my_np_array, axis=0))\n",
    "print(np.sum(my_np_array, axis=0).shape)"
   ]
  },
  {
   "cell_type": "code",
   "execution_count": 15,
   "metadata": {},
   "outputs": [
    {
     "name": "stdout",
     "output_type": "stream",
     "text": [
      "(2, 4, 10)\n"
     ]
    }
   ],
   "source": [
    "my_np_array = np.empty((2, 4, 12, 10))\n",
    "# print(my_np_array)\n",
    "print(np.sum(my_np_array, axis=2).shape)\n",
    "# print(my_np_array)"
   ]
  },
  {
   "cell_type": "markdown",
   "metadata": {},
   "source": [
    "# Random\n",
    "- rand()\n",
    "- randint()"
   ]
  },
  {
   "cell_type": "code",
   "execution_count": 16,
   "metadata": {},
   "outputs": [
    {
     "name": "stdout",
     "output_type": "stream",
     "text": [
      "0.7566896694584352\n",
      "[[0.91414693 0.51360789]\n",
      " [0.48322079 0.66800912]\n",
      " [0.56679242 0.59113659]\n",
      " [0.29648907 0.37301048]]\n",
      "34\n",
      "[[78 17 87]\n",
      " [45 10 18]\n",
      " [83 41 54]\n",
      " [25 48 60]\n",
      " [20 79 69]]\n"
     ]
    }
   ],
   "source": [
    "\n",
    "print(np.random.rand())\n",
    "print(np.random.rand(4,2))\n",
    "print(np.random.randint(100))\n",
    "print(np.random.randint(100, size=(5,3)))"
   ]
  },
  {
   "cell_type": "code",
   "execution_count": 17,
   "metadata": {},
   "outputs": [
    {
     "name": "stdout",
     "output_type": "stream",
     "text": [
      "[3 4 2 4 4]\n",
      "[4 3 4 2 4]\n"
     ]
    }
   ],
   "source": [
    "\"\"\"Random shuffle\"\"\"\n",
    "\n",
    "np.random.seed(42)\n",
    "\n",
    "my_array = np.random.randint(5, size=(5,))\n",
    "print(my_array)\n",
    "np.random.shuffle(my_array)\n",
    "print(my_array)"
   ]
  },
  {
   "cell_type": "markdown",
   "metadata": {},
   "source": [
    "# Use case: Split Dataset into Train, Test and Validation "
   ]
  },
  {
   "cell_type": "code",
   "execution_count": 18,
   "metadata": {},
   "outputs": [
    {
     "name": "stdout",
     "output_type": "stream",
     "text": [
      "Dataset:\n",
      " [[4.59248892e-01 3.33708611e-01 1.42866818e-01 6.50888473e-01\n",
      "  5.64115790e-02]\n",
      " [7.21998772e-01 9.38552709e-01 7.78765841e-04 9.92211559e-01\n",
      "  6.17481510e-01]\n",
      " [6.11653160e-01 7.06630522e-03 2.30624250e-02 5.24774660e-01\n",
      "  3.99860972e-01]\n",
      " [4.66656632e-02 9.73755519e-01 2.32771340e-01 9.06064345e-02\n",
      "  6.18386009e-01]\n",
      " [3.82461991e-01 9.83230886e-01 4.66762893e-01 8.59940407e-01\n",
      "  6.80307539e-01]]\n"
     ]
    }
   ],
   "source": [
    "\n",
    "dataset = np.random.rand(1000, 5)\n",
    "print(\"Dataset:\\n\", dataset[:5])"
   ]
  },
  {
   "cell_type": "code",
   "execution_count": 19,
   "metadata": {},
   "outputs": [],
   "source": [
    "np.random.shuffle(dataset)"
   ]
  },
  {
   "cell_type": "code",
   "execution_count": 20,
   "metadata": {},
   "outputs": [
    {
     "data": {
      "text/plain": [
       "array([[0.27561234, 0.7871266 , 0.97483465, 0.37120709, 0.42888688],\n",
       "       [0.01363402, 0.32272657, 0.55435668, 0.14821746, 0.09209875],\n",
       "       [0.87426247, 0.51010971, 0.72340477, 0.10413736, 0.22543876],\n",
       "       [0.32350039, 0.83430337, 0.62929881, 0.19885628, 0.06461668],\n",
       "       [0.55835232, 0.86993783, 0.37154651, 0.61440001, 0.52366342]])"
      ]
     },
     "execution_count": 20,
     "metadata": {},
     "output_type": "execute_result"
    }
   ],
   "source": [
    "dataset[:5]"
   ]
  },
  {
   "cell_type": "code",
   "execution_count": 21,
   "metadata": {},
   "outputs": [
    {
     "name": "stdout",
     "output_type": "stream",
     "text": [
      "800 100 100\n"
     ]
    }
   ],
   "source": [
    "\"\"\" Step 2. Split \"\"\"\n",
    "\n",
    "index_1 = int(0.8 * len(dataset))\n",
    "index_2 = int(0.9 * len(dataset))\n",
    "\n",
    "trainset, valset, testset = np.split(\n",
    "    dataset,\n",
    "    [index_1, index_2],\n",
    ")\n",
    "print(len(trainset), len(valset), len(testset))"
   ]
  },
  {
   "cell_type": "markdown",
   "metadata": {},
   "source": [
    "\n",
    "Dera => No idea what inside => unknown data generator\n",
    "\n",
    "Dakat's information => \n",
    "list of information (height, weight, color, weapon) => sample dataset / sample output from the unknown data generator (dataset)\n",
    "\n",
    "=> trying to predict/mimic unknown data generator (ml) using ml algorithms\n",
    "\n",
    "=> To test our ml algorithm we use testset, and use trainset for learning the ml algorithm and valset to evaluate our ml algorithm when it is trained on trainset\n"
   ]
  }
 ],
 "metadata": {
  "kernelspec": {
   "display_name": "Python 3",
   "language": "python",
   "name": "python3"
  },
  "language_info": {
   "codemirror_mode": {
    "name": "ipython",
    "version": 3
   },
   "file_extension": ".py",
   "mimetype": "text/x-python",
   "name": "python",
   "nbconvert_exporter": "python",
   "pygments_lexer": "ipython3",
   "version": "3.12.5"
  }
 },
 "nbformat": 4,
 "nbformat_minor": 2
}
