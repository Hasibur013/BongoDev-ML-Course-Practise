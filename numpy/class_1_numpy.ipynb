{
 "cells": [
  {
   "cell_type": "code",
   "execution_count": 7,
   "id": "3d87bf824af827fe",
   "metadata": {
    "ExecuteTime": {
     "end_time": "2024-08-11T14:42:41.726714Z",
     "start_time": "2024-08-11T14:42:41.723705Z"
    }
   },
   "outputs": [
    {
     "data": {
      "text/plain": [
       "'1.26.4'"
      ]
     },
     "execution_count": 7,
     "metadata": {},
     "output_type": "execute_result"
    }
   ],
   "source": [
    "\"\"\" Numpy - The Basics\n",
    "- Numpy stands for numerical python\n",
    "- NumPy is a Python library.\n",
    "- NumPy is used for working with arrays. \n",
    "- 50x faster than list\n",
    "- supports vectorization\n",
    "\n",
    "Prerequisites:\n",
    "==============\n",
    "- How to use Jupyter Notebook\n",
    "- Basic python\n",
    " \n",
    "Objectives:\n",
    "===========\n",
    "1. We will learn how to create a numpy array\n",
    "2. We will understand numpy indexing\n",
    "3. We will slice numpy array\n",
    "4. We will filter elements from a numpy array\n",
    "5. We will also know the difference between copy and view\n",
    "6. We will reshape, sort, iterate over a numpy array\n",
    "\"\"\"\n",
    "\n",
    "\"\"\"A cell\"\"\"\n",
    "import numpy as np\n",
    "\n",
    "np.__version__"
   ]
  },
  {
   "cell_type": "code",
   "execution_count": 8,
   "id": "e6a895a7b78ed46f",
   "metadata": {
    "ExecuteTime": {
     "end_time": "2024-08-11T14:48:12.073740Z",
     "start_time": "2024-08-11T14:48:12.069813Z"
    }
   },
   "outputs": [
    {
     "name": "stdout",
     "output_type": "stream",
     "text": [
      "[1 2 3]\n",
      "int32\n",
      "(3,)\n",
      "1\n"
     ]
    }
   ],
   "source": [
    "\"\"\"numpy array creation\n",
    "- dtype\n",
    "- shape\n",
    "- ndim\n",
    "\"\"\"\n",
    "\n",
    "my_np_array = np.array([1, 2, 3])\n",
    "\n",
    "print(my_np_array)\n",
    "print(my_np_array.dtype)\n",
    "print(my_np_array.shape)\n",
    "print(my_np_array.ndim)"
   ]
  },
  {
   "cell_type": "code",
   "execution_count": 9,
   "id": "68b3b95c791c77b6",
   "metadata": {
    "ExecuteTime": {
     "end_time": "2024-08-11T14:49:54.786796Z",
     "start_time": "2024-08-11T14:49:54.782304Z"
    }
   },
   "outputs": [
    {
     "data": {
      "text/plain": [
       "array([0, 0, 0, 0, 0])"
      ]
     },
     "execution_count": 9,
     "metadata": {},
     "output_type": "execute_result"
    }
   ],
   "source": [
    "\"\"\" Create an array with all zeros\n",
    "\"\"\"\n",
    "zeros_np_array = np.zeros(shape=(5,), dtype='int')\n",
    "\n",
    "zeros_np_array"
   ]
  },
  {
   "cell_type": "code",
   "execution_count": 10,
   "id": "965c500e7bb6652c",
   "metadata": {
    "ExecuteTime": {
     "end_time": "2024-08-11T15:00:29.525412Z",
     "start_time": "2024-08-11T15:00:29.522126Z"
    }
   },
   "outputs": [
    {
     "name": "stdout",
     "output_type": "stream",
     "text": [
      "[[1 1]\n",
      " [1 1]\n",
      " [1 1]\n",
      " [1 1]\n",
      " [1 1]\n",
      " [1 1]\n",
      " [1 1]\n",
      " [1 1]\n",
      " [1 1]\n",
      " [1 1]]\n",
      "int32\n"
     ]
    }
   ],
   "source": [
    "ones_np_array = np.ones(shape=(10,2), dtype='int')\n",
    "\n",
    "print(ones_np_array)\n",
    "print(ones_np_array.dtype)"
   ]
  },
  {
   "cell_type": "code",
   "execution_count": 11,
   "id": "278e83e73b445c0",
   "metadata": {
    "ExecuteTime": {
     "end_time": "2024-08-11T14:51:35.835045Z",
     "start_time": "2024-08-11T14:51:35.832168Z"
    }
   },
   "outputs": [
    {
     "data": {
      "text/plain": [
       "array([15, 15, 15, 15, 15, 15, 15, 15, 15, 15])"
      ]
     },
     "execution_count": 11,
     "metadata": {},
     "output_type": "execute_result"
    }
   ],
   "source": [
    "assigned_with_specific_np_array = np.full(shape=(10,), fill_value=15,)\n",
    "\n",
    "assigned_with_specific_np_array"
   ]
  },
  {
   "cell_type": "code",
   "execution_count": 22,
   "id": "52e8ee2239c7498e",
   "metadata": {
    "ExecuteTime": {
     "end_time": "2024-08-11T14:53:11.606171Z",
     "start_time": "2024-08-11T14:53:11.603370Z"
    }
   },
   "outputs": [
    {
     "name": "stdout",
     "output_type": "stream",
     "text": [
      "[[1. 0. 0. 0.]\n",
      " [0. 1. 0. 0.]\n",
      " [0. 0. 1. 0.]\n",
      " [0. 0. 0. 1.]]\n"
     ]
    },
    {
     "data": {
      "text/plain": [
       "array([[1., 0., 0., 0.],\n",
       "       [0., 1., 0., 0.],\n",
       "       [0., 0., 1., 0.],\n",
       "       [0., 0., 0., 1.]])"
      ]
     },
     "execution_count": 22,
     "metadata": {},
     "output_type": "execute_result"
    }
   ],
   "source": [
    "identity_matrix = np.eye(4)\n",
    "print(identity_matrix)\n",
    "identity_matrix"
   ]
  },
  {
   "cell_type": "code",
   "execution_count": 23,
   "id": "f458534780bea00c",
   "metadata": {
    "ExecuteTime": {
     "end_time": "2024-08-11T14:54:19.590933Z",
     "start_time": "2024-08-11T14:54:19.587441Z"
    }
   },
   "outputs": [
    {
     "data": {
      "text/plain": [
       "array([2.12199579e-314, 9.69752076e-312, 6.38332814e-321, 3.79442416e-321,\n",
       "       9.69875004e-312])"
      ]
     },
     "execution_count": 23,
     "metadata": {},
     "output_type": "execute_result"
    }
   ],
   "source": [
    "my_empty_np_array = np.empty(shape=(5,))\n",
    "my_empty_np_array"
   ]
  },
  {
   "cell_type": "code",
   "execution_count": 24,
   "id": "7ac48c0beb6d5c46",
   "metadata": {
    "ExecuteTime": {
     "end_time": "2024-08-11T14:57:54.777216Z",
     "start_time": "2024-08-11T14:57:54.774186Z"
    }
   },
   "outputs": [
    {
     "name": "stdout",
     "output_type": "stream",
     "text": [
      "[0 0 0 0 0]\n"
     ]
    }
   ],
   "source": [
    "\"\"\"Type cast\"\"\"\n",
    "\n",
    "my_empty_np_array_int = my_empty_np_array.astype('int')\n",
    "print(my_empty_np_array_int)"
   ]
  },
  {
   "cell_type": "code",
   "execution_count": 26,
   "id": "eaeddc827d58f00a",
   "metadata": {
    "ExecuteTime": {
     "end_time": "2024-08-11T15:00:51.131162Z",
     "start_time": "2024-08-11T15:00:51.128173Z"
    }
   },
   "outputs": [
    {
     "name": "stdout",
     "output_type": "stream",
     "text": [
      "0-dimensional array: 42 ndim: 0\n",
      "1-dimensional array: [1.5 2.  3.3 4.7 5.1 6. ] ndim: 1\n",
      "2-dimensional array ndim: 2\n",
      "[[1 2 3 4]\n",
      " [5 8 9 5]\n",
      " [7 1 2 7]]\n"
     ]
    }
   ],
   "source": [
    "\"\"\"numpy array dimensions.\n",
    "Mathematical objects\n",
    "- scalar -> 0D\n",
    "- vector -> 1D\n",
    "- matrix -> 2D\n",
    "- tensor -> xD\n",
    "\"\"\"\n",
    "my_0d_array = np.array(42)\n",
    "print('0-dimensional array:', my_0d_array, 'ndim:', my_0d_array.ndim)\n",
    "\n",
    "my_1d_array = np.array([1.5, 2, 3.3, 4.7, 5.1, 6]) \n",
    "print('1-dimensional array:', my_1d_array, 'ndim:', my_1d_array.ndim)\n",
    "\n",
    "my_2d_array = np.array(\n",
    "    [[1, 2, 3, 4],\n",
    "     [5, 8, 9, 5],\n",
    "     [7, 1, 2, 7]]\n",
    ") \n",
    "print('2-dimensional array', 'ndim:', my_2d_array.ndim)\n",
    "print(my_2d_array)"
   ]
  },
  {
   "cell_type": "code",
   "execution_count": 16,
   "id": "5c8dec09f135f9a5",
   "metadata": {
    "ExecuteTime": {
     "end_time": "2024-08-11T15:06:38.451244Z",
     "start_time": "2024-08-11T15:06:38.448237Z"
    }
   },
   "outputs": [
    {
     "name": "stdout",
     "output_type": "stream",
     "text": [
      "3\n",
      "3\n"
     ]
    }
   ],
   "source": [
    "\"\"\"numpy indexing\n",
    "- non-negative indexing\n",
    "- negative indexing\n",
    "\"\"\"\n",
    "\n",
    "my_np_array = np.array(\n",
    "    [1, 2, 3, 4, 5]\n",
    ")\n",
    "\n",
    "print(my_np_array[2])\n",
    "print(my_np_array[-3])"
   ]
  },
  {
   "cell_type": "code",
   "execution_count": 17,
   "id": "2e7e4199982f9087",
   "metadata": {
    "ExecuteTime": {
     "end_time": "2024-08-11T15:08:40.335861Z",
     "start_time": "2024-08-11T15:08:40.332173Z"
    }
   },
   "outputs": [
    {
     "name": "stdout",
     "output_type": "stream",
     "text": [
      "8\n",
      "8\n"
     ]
    }
   ],
   "source": [
    "my_2d_array = np.array(\n",
    "    [[1, 2, 3, 4],\n",
    "     [5, 8, 9, 5],\n",
    "     [7, 1, 2, 7]]\n",
    ") \n",
    "\n",
    "print(my_2d_array[1,1])\n",
    "print(my_2d_array[1,-3])"
   ]
  },
  {
   "cell_type": "code",
   "execution_count": 28,
   "id": "afdb4f0d1f3aa321",
   "metadata": {
    "ExecuteTime": {
     "end_time": "2024-08-11T15:14:00.384397Z",
     "start_time": "2024-08-11T15:14:00.380891Z"
    }
   },
   "outputs": [
    {
     "name": "stdout",
     "output_type": "stream",
     "text": [
      "[1 2 3 4 5 6]\n",
      "[3.3 4.7 5.1]\n",
      "[2.  4.7]\n"
     ]
    }
   ],
   "source": [
    "\"\"\"numpy slicing\n",
    "- array_name[start:end] => open interval [start, end)\n",
    "- array_name[start:end:step]\n",
    "- end index is excluded\n",
    "- default values: start=0, end=n, step=1\n",
    "\"\"\"\n",
    "print(my_1d_array.astype('int'))\n",
    "print(my_1d_array[2:5])\n",
    "print(my_1d_array[1:5:2])\n",
    "# print(my_2d_array[0:2,1:3])"
   ]
  },
  {
   "cell_type": "code",
   "execution_count": 19,
   "id": "9cc3138980100eee",
   "metadata": {
    "ExecuteTime": {
     "end_time": "2024-08-11T15:18:19.256518Z",
     "start_time": "2024-08-11T15:18:19.254220Z"
    }
   },
   "outputs": [
    {
     "name": "stdout",
     "output_type": "stream",
     "text": [
      "[[1 2 3 4]\n",
      " [5 8 9 5]\n",
      " [7 1 2 7]]\n"
     ]
    }
   ],
   "source": [
    "print(my_2d_array)"
   ]
  },
  {
   "cell_type": "code",
   "execution_count": 20,
   "id": "1966d9284bca362b",
   "metadata": {
    "ExecuteTime": {
     "end_time": "2024-08-11T15:20:17.375074Z",
     "start_time": "2024-08-11T15:20:17.372730Z"
    }
   },
   "outputs": [
    {
     "name": "stdout",
     "output_type": "stream",
     "text": [
      "[[5 8 9 5]\n",
      " [7 1 2 7]]\n"
     ]
    }
   ],
   "source": [
    "print(my_2d_array[1:3,])"
   ]
  },
  {
   "cell_type": "code",
   "execution_count": 21,
   "id": "d3f9c785ec7ce374",
   "metadata": {},
   "outputs": [
    {
     "data": {
      "text/plain": [
       "'numpy filter\\n- using boolean mask\\n- using conditionals\\n- using indices\\n- using custom filter method\\n'"
      ]
     },
     "execution_count": 21,
     "metadata": {},
     "output_type": "execute_result"
    }
   ],
   "source": [
    "\"\"\"numpy filter\n",
    "- using boolean mask\n",
    "- using conditionals\n",
    "- using indices\n",
    "- using custom filter method\n",
    "\"\"\""
   ]
  }
 ],
 "metadata": {
  "kernelspec": {
   "display_name": "Python 3",
   "language": "python",
   "name": "python3"
  },
  "language_info": {
   "codemirror_mode": {
    "name": "ipython",
    "version": 3
   },
   "file_extension": ".py",
   "mimetype": "text/x-python",
   "name": "python",
   "nbconvert_exporter": "python",
   "pygments_lexer": "ipython3",
   "version": "3.12.4"
  }
 },
 "nbformat": 4,
 "nbformat_minor": 5
}
